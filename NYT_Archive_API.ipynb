{
 "cells": [
  {
   "attachments": {},
   "cell_type": "markdown",
   "metadata": {},
   "source": [
    "# 0- Setting the folders"
   ]
  },
  {
   "cell_type": "code",
   "execution_count": 48,
   "metadata": {},
   "outputs": [],
   "source": [
    "import os"
   ]
  },
  {
   "cell_type": "code",
   "execution_count": 49,
   "metadata": {},
   "outputs": [
    {
     "name": "stdout",
     "output_type": "stream",
     "text": [
      "Raw NYT data folder exist\n",
      "Clean NYT data folder exist\n"
     ]
    }
   ],
   "source": [
    "API_DIRECTORY_PATH = './NYT_API_RAW/'\n",
    "PARSED_DIRECTORY_PATH = './NYT_API_clean/'\n",
    "\n",
    "if os.path.exists(API_DIRECTORY_PATH):\n",
    "    print(\"Raw NYT data folder exist\")\n",
    "else:\n",
    "    print(\"Raw NYT data created\")\n",
    "    os.makedirs(API_DIRECTORY_PATH)\n"
   ]
  },
  {
   "attachments": {},
   "cell_type": "markdown",
   "metadata": {},
   "source": [
    "# 1- Archive API request"
   ]
  },
  {
   "cell_type": "code",
   "execution_count": 53,
   "metadata": {},
   "outputs": [],
   "source": [
    "import requests\n",
    "import pandas as pd\n",
    "import time \n",
    "import numpy as np\n",
    "import os\n",
    "\n",
    "#Progress bar for pandas\n",
    "from tqdm import tqdm\n",
    "tqdm.pandas()\n",
    "\n",
    "from pandas import json_normalize\n",
    "\n",
    "NYT_API_KEY = 'YOUR API KEY'"
   ]
  },
  {
   "cell_type": "code",
   "execution_count": 64,
   "metadata": {},
   "outputs": [],
   "source": [
    "import os\n",
    "import time\n",
    "import requests\n",
    "import pandas as pd\n",
    "\n",
    "\n",
    "def get_nyt_archive_api(year_start=1980, year_end=2023, directory_path=API_DIRECTORY_PATH):\n",
    "    \"\"\"\n",
    "    Function to get the data from the NYT Archive API\n",
    "    \"\"\"\n",
    "    for year in range(year_start, year_end+1):\n",
    "        nyt_data_year_path = os.path.join(directory_path, str(year))\n",
    "        \n",
    "        if not os.path.isdir(nyt_data_year_path):\n",
    "            os.makedirs(nyt_data_year_path)\n",
    "\n",
    "        for month in range(1, 13):           \n",
    "            nyt_data_year_month_file = os.path.join(nyt_data_year_path, f\"NYT_Archive_API_{year}_{month}.csv\")\n",
    "            \n",
    "            try:\n",
    "                monthly_data = pd.read_csv(nyt_data_year_month_file)\n",
    "                continue\n",
    "            except:\n",
    "                print(f'File empty or does not exist: {nyt_data_year_month_file}')\n",
    "\n",
    "                time.sleep(15) # To stay within API limits\n",
    "                \n",
    "                try:\n",
    "                    nyt_archive = requests.get(f'https://api.nytimes.com/svc/archive/v1/{year}/{month}.json?api-key={NYT_API_KEY}')\n",
    "\n",
    "                    if nyt_archive.status_code != 200:\n",
    "                        print(f\"Request failed with status code {nyt_archive.status_code} for {month}-{year}\")\n",
    "                        break\n",
    "\n",
    "                    nyt_df = pd.DataFrame.from_dict(nyt_archive.json()['response']['docs'])\n",
    "                    nyt_df.reset_index(drop=True, inplace=True)\n",
    "                    nyt_df.to_csv(nyt_data_year_month_file, index=False)\n",
    "\n",
    "                    print(f\"{year} - {month} - {len(nyt_archive.json()['response']['docs'])}\" + \" - Export finished\")\n",
    "\n",
    "                except requests.exceptions.RequestException as e:\n",
    "                    print(f\"{month} - {year} - FAIL: {e}\")\n"
   ]
  },
  {
   "cell_type": "code",
   "execution_count": 70,
   "metadata": {},
   "outputs": [
    {
     "name": "stdout",
     "output_type": "stream",
     "text": [
      "File empty or does not exist: ./NYT_API_RAW/1978/NYT_Archive_API_1978_9.csv\n",
      "1978 - 9 - 0 - Export finished\n",
      "File empty or does not exist: ./NYT_API_RAW/1978/NYT_Archive_API_1978_10.csv\n",
      "1978 - 10 - 0 - Export finished\n",
      "File empty or does not exist: ./NYT_API_RAW/2023/NYT_Archive_API_2023_7.csv\n",
      "Request failed with status code 403 for 7-2023\n"
     ]
    }
   ],
   "source": [
    "#Give the year to download the data from:\n",
    "\n",
    "year_start = 1853\n",
    "year_end = 2023\n",
    "\n",
    "get_nyt_archive_api(year_start, year_end, API_DIRECTORY_PATH)"
   ]
  }
 ],
 "metadata": {
  "kernelspec": {
   "display_name": "base",
   "language": "python",
   "name": "python3"
  },
  "language_info": {
   "codemirror_mode": {
    "name": "ipython",
    "version": 3
   },
   "file_extension": ".py",
   "mimetype": "text/x-python",
   "name": "python",
   "nbconvert_exporter": "python",
   "pygments_lexer": "ipython3",
   "version": "3.11.3"
  },
  "orig_nbformat": 4,
  "vscode": {
   "interpreter": {
    "hash": "0794f36577fa0beb83ccaf51a63f86a37002180b326e5bb9f2533f841c35fc46"
   }
  }
 },
 "nbformat": 4,
 "nbformat_minor": 2
}
